{
 "cells": [
  {
   "cell_type": "code",
   "execution_count": 54,
   "metadata": {},
   "outputs": [],
   "source": [
    "from PIL import Image\n",
    "import numpy as np\n",
    "import matplotlib.pyplot as plt\n",
    "import time\n",
    "from collections import Counter"
   ]
  },
  {
   "cell_type": "code",
   "execution_count": 55,
   "metadata": {},
   "outputs": [],
   "source": [
    "def createExamples():\n",
    "    numberArrayExamples = open('numArEx.txt','a')\n",
    "    numbersWeHave = range(1,10)\n",
    "    for eachNum in numbersWeHave:\n",
    "        for furtherNum in numbersWeHave:\n",
    "\n",
    "            imgFilePath = 'images/numbers/'+str(eachNum)+'.'+str(furtherNum)+'.png'\n",
    "            ei = Image.open(imgFilePath)\n",
    "            eiar = np.array(ei)\n",
    "            eiarl = str(eiar.tolist())\n",
    "\n",
    "            lineToWrite = str(eachNum)+'::'+eiarl+'\\n'\n",
    "            numberArrayExamples.write(lineToWrite)\n",
    "\n",
    "createExamples()"
   ]
  },
  {
   "cell_type": "code",
   "execution_count": null,
   "metadata": {},
   "outputs": [],
   "source": []
  },
  {
   "cell_type": "code",
   "execution_count": null,
   "metadata": {},
   "outputs": [],
   "source": []
  },
  {
   "cell_type": "code",
   "execution_count": 56,
   "metadata": {},
   "outputs": [],
   "source": [
    "def whatNumIsThis(filePath):\n",
    "\n",
    "    matchedAr = []\n",
    "    loadExamps = open('numArEx.txt','r').read()\n",
    "    loadExamps = loadExamps.split('\\n')\n",
    "    i = Image.open(filePath)\n",
    "    iar = np.array(i)\n",
    "    iarl = iar.tolist()\n",
    "    inQuestion = str(iarl)\n",
    "    for eachExample in loadExamps:\n",
    "        try:\n",
    "            splitEx = eachExample.split('::')\n",
    "            currentNum = splitEx[0]\n",
    "            currentAr = splitEx[1]\n",
    "            eachPixEx = currentAr.split('],')\n",
    "            eachPixInQ = inQuestion.split('],')\n",
    "            x = 0\n",
    "            while x < len(eachPixEx):\n",
    "                if eachPixEx[x] == eachPixInQ[x]:\n",
    "                    matchedAr.append(int(currentNum))\n",
    "\n",
    "                x+=1\n",
    "        except Exception as e:\n",
    "            print(str(e))\n",
    "                \n",
    "    x = Counter(matchedAr)\n",
    "    print(x)\n",
    "    graphX = []\n",
    "    graphY = []\n",
    "\n",
    "    ylimi = 0\n",
    "\n",
    "    for eachThing in x:\n",
    "        graphX.append(eachThing)\n",
    "        graphY.append(x[eachThing])\n",
    "        ylimi = x[eachThing]\n",
    "\n",
    "\n",
    "\n",
    "    fig = plt.figure()\n",
    "    ax1 = plt.subplot2grid((4,4),(0,0), rowspan=1, colspan=4)\n",
    "    ax2 = plt.subplot2grid((4,4),(1,0), rowspan=3,colspan=4)\n",
    "    \n",
    "    ax1.imshow(iar)\n",
    "    ax2.bar(graphX,graphY,align='center')\n",
    "    plt.ylim(400)\n",
    "    \n",
    "    xloc = plt.MaxNLocator(12)\n",
    "    ax2.xaxis.set_major_locator(xloc)\n",
    "\n",
    "    plt.show()\n"
   ]
  },
  {
   "cell_type": "code",
   "execution_count": 58,
   "metadata": {},
   "outputs": [
    {
     "name": "stdout",
     "output_type": "stream",
     "text": [
      "list index out of range\n",
      "Counter({9: 480, 3: 455, 6: 430, 8: 429, 5: 427, 2: 415, 4: 399, 7: 380, 1: 333})\n"
     ]
    },
    {
     "data": {
      "image/png": "[encoded data removed]",
      "text/plain": [
       "<matplotlib.figure.Figure at 0x106910550>"
      ]
     },
     "metadata": {},
     "output_type": "display_data"
    }
   ],
   "source": [
    "whatNumIsThis('images/numbers/9.3.png')"
   ]
  }
 ],
 "metadata": {
  "kernelspec": {
   "display_name": "Python 2",
   "language": "python",
   "name": "python2"
  },
  "language_info": {
   "codemirror_mode": {
    "name": "ipython",
    "version": 2
   },
   "file_extension": ".py",
   "mimetype": "text/x-python",
   "name": "python",
   "nbconvert_exporter": "python",
   "pygments_lexer": "ipython2",
   "version": "2.7.14"
  }
 },
 "nbformat": 4,
 "nbformat_minor": 2
}
